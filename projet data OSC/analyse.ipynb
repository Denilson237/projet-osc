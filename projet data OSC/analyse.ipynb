{
 "cells": [
  {
   "cell_type": "markdown",
   "id": "9b202eb2-7e40-40dd-b89f-d1f0b8645479",
   "metadata": {},
   "source": [
    "# **<center>PROJET D'ANALYSE DES VENTES DE L'ENTREPRISE RETAIL</center>**"
   ]
  },
  {
   "cell_type": "markdown",
   "id": "025ae342-125d-4537-b118-18a37f83f435",
   "metadata": {},
   "source": [
    "###  **Rappel du context**\n",
    "   l'entreprise \"Retail\" souhaite optimiser son approvisionnement en produit en optimisant les historiques de vente."
   ]
  },
  {
   "cell_type": "markdown",
   "id": "337d999a-5064-4dd3-bc2e-3583e39ae457",
   "metadata": {},
   "source": [
    "###  **Objectif**\n",
    "   Analyser un jeu de donnees de ventes pour identifier des tendances et proposer des strategies d'approvisionnement efficaces."
   ]
  },
  {
   "cell_type": "markdown",
   "id": "ecb53ea2-ceec-49d2-aced-4ce56ef8215d",
   "metadata": {},
   "source": [
    "### **Importation des libraries**"
   ]
  },
  {
   "cell_type": "code",
   "execution_count": 1,
   "id": "a2fe5b01-bdb7-4db1-9a31-86c0b2d25ab2",
   "metadata": {},
   "outputs": [],
   "source": [
    "from warnings import filterwarnings\n",
    "filterwarnings(\"ignore\")\n",
    "import pandas as pd\n",
    "import numpy as np\n",
    "import matplotlib.pyplot as plt\n",
    "import seaborn as sns"
   ]
  },
  {
   "cell_type": "markdown",
   "id": "670fc1b3-eafa-4f7e-8495-7f3323172567",
   "metadata": {},
   "source": [
    "## **1. Preparation et Exploitation des donnees**"
   ]
  },
  {
   "cell_type": "markdown",
   "id": "9fe01be8-792b-43e4-93b8-90bc4690150e",
   "metadata": {},
   "source": [
    "### **Importation des donnees**\n",
    "\n",
    "   il s'agit d'un jeu de donnees provenant de http://archive.ics.uci.edu/dataset/352/online+retail contenant des transaction et des annulations effectuees par un detaillant en ligne"
   ]
  },
  {
   "cell_type": "code",
   "execution_count": 2,
   "id": "6157e32d-2629-4b1a-89d2-579937791a99",
   "metadata": {},
   "outputs": [],
   "source": [
    "df = pd.read_excel(\"retail.xlsx\")"
   ]
  },
  {
   "cell_type": "code",
   "execution_count": 3,
   "id": "37abb578-4cf2-4b0b-ab65-f065a54e2278",
   "metadata": {},
   "outputs": [
    {
     "data": {
      "text/html": [
       "<div>\n",
       "<style scoped>\n",
       "    .dataframe tbody tr th:only-of-type {\n",
       "        vertical-align: middle;\n",
       "    }\n",
       "\n",
       "    .dataframe tbody tr th {\n",
       "        vertical-align: top;\n",
       "    }\n",
       "\n",
       "    .dataframe thead th {\n",
       "        text-align: right;\n",
       "    }\n",
       "</style>\n",
       "<table border=\"1\" class=\"dataframe\">\n",
       "  <thead>\n",
       "    <tr style=\"text-align: right;\">\n",
       "      <th></th>\n",
       "      <th>InvoiceNo</th>\n",
       "      <th>StockCode</th>\n",
       "      <th>Description</th>\n",
       "      <th>Quantity</th>\n",
       "      <th>InvoiceDate</th>\n",
       "      <th>UnitPrice</th>\n",
       "      <th>CustomerID</th>\n",
       "      <th>Country</th>\n",
       "    </tr>\n",
       "  </thead>\n",
       "  <tbody>\n",
       "    <tr>\n",
       "      <th>0</th>\n",
       "      <td>536365</td>\n",
       "      <td>85123A</td>\n",
       "      <td>WHITE HANGING HEART T-LIGHT HOLDER</td>\n",
       "      <td>6</td>\n",
       "      <td>2010-12-01 08:26:00</td>\n",
       "      <td>2.55</td>\n",
       "      <td>17850.0</td>\n",
       "      <td>United Kingdom</td>\n",
       "    </tr>\n",
       "    <tr>\n",
       "      <th>1</th>\n",
       "      <td>536365</td>\n",
       "      <td>71053</td>\n",
       "      <td>WHITE METAL LANTERN</td>\n",
       "      <td>6</td>\n",
       "      <td>2010-12-01 08:26:00</td>\n",
       "      <td>3.39</td>\n",
       "      <td>17850.0</td>\n",
       "      <td>United Kingdom</td>\n",
       "    </tr>\n",
       "    <tr>\n",
       "      <th>2</th>\n",
       "      <td>536365</td>\n",
       "      <td>84406B</td>\n",
       "      <td>CREAM CUPID HEARTS COAT HANGER</td>\n",
       "      <td>8</td>\n",
       "      <td>2010-12-01 08:26:00</td>\n",
       "      <td>2.75</td>\n",
       "      <td>17850.0</td>\n",
       "      <td>United Kingdom</td>\n",
       "    </tr>\n",
       "    <tr>\n",
       "      <th>3</th>\n",
       "      <td>536365</td>\n",
       "      <td>84029G</td>\n",
       "      <td>KNITTED UNION FLAG HOT WATER BOTTLE</td>\n",
       "      <td>6</td>\n",
       "      <td>2010-12-01 08:26:00</td>\n",
       "      <td>3.39</td>\n",
       "      <td>17850.0</td>\n",
       "      <td>United Kingdom</td>\n",
       "    </tr>\n",
       "    <tr>\n",
       "      <th>4</th>\n",
       "      <td>536365</td>\n",
       "      <td>84029E</td>\n",
       "      <td>RED WOOLLY HOTTIE WHITE HEART.</td>\n",
       "      <td>6</td>\n",
       "      <td>2010-12-01 08:26:00</td>\n",
       "      <td>3.39</td>\n",
       "      <td>17850.0</td>\n",
       "      <td>United Kingdom</td>\n",
       "    </tr>\n",
       "  </tbody>\n",
       "</table>\n",
       "</div>"
      ],
      "text/plain": [
       "  InvoiceNo StockCode                          Description  Quantity  \\\n",
       "0    536365    85123A   WHITE HANGING HEART T-LIGHT HOLDER         6   \n",
       "1    536365     71053                  WHITE METAL LANTERN         6   \n",
       "2    536365    84406B       CREAM CUPID HEARTS COAT HANGER         8   \n",
       "3    536365    84029G  KNITTED UNION FLAG HOT WATER BOTTLE         6   \n",
       "4    536365    84029E       RED WOOLLY HOTTIE WHITE HEART.         6   \n",
       "\n",
       "          InvoiceDate  UnitPrice  CustomerID         Country  \n",
       "0 2010-12-01 08:26:00       2.55     17850.0  United Kingdom  \n",
       "1 2010-12-01 08:26:00       3.39     17850.0  United Kingdom  \n",
       "2 2010-12-01 08:26:00       2.75     17850.0  United Kingdom  \n",
       "3 2010-12-01 08:26:00       3.39     17850.0  United Kingdom  \n",
       "4 2010-12-01 08:26:00       3.39     17850.0  United Kingdom  "
      ]
     },
     "execution_count": 3,
     "metadata": {},
     "output_type": "execute_result"
    }
   ],
   "source": [
    "#lecture des 5 premieres lignes\n",
    "df.head()"
   ]
  },
  {
   "cell_type": "code",
   "execution_count": 4,
   "id": "0ce8b94e-bf34-4ad1-b02d-e6bf4bd58247",
   "metadata": {},
   "outputs": [
    {
     "data": {
      "text/html": [
       "<div>\n",
       "<style scoped>\n",
       "    .dataframe tbody tr th:only-of-type {\n",
       "        vertical-align: middle;\n",
       "    }\n",
       "\n",
       "    .dataframe tbody tr th {\n",
       "        vertical-align: top;\n",
       "    }\n",
       "\n",
       "    .dataframe thead th {\n",
       "        text-align: right;\n",
       "    }\n",
       "</style>\n",
       "<table border=\"1\" class=\"dataframe\">\n",
       "  <thead>\n",
       "    <tr style=\"text-align: right;\">\n",
       "      <th></th>\n",
       "      <th>InvoiceNo</th>\n",
       "      <th>StockCode</th>\n",
       "      <th>Description</th>\n",
       "      <th>Quantity</th>\n",
       "      <th>InvoiceDate</th>\n",
       "      <th>UnitPrice</th>\n",
       "      <th>CustomerID</th>\n",
       "      <th>Country</th>\n",
       "    </tr>\n",
       "  </thead>\n",
       "  <tbody>\n",
       "    <tr>\n",
       "      <th>541904</th>\n",
       "      <td>581587</td>\n",
       "      <td>22613</td>\n",
       "      <td>PACK OF 20 SPACEBOY NAPKINS</td>\n",
       "      <td>12</td>\n",
       "      <td>2011-12-09 12:50:00</td>\n",
       "      <td>0.85</td>\n",
       "      <td>12680.0</td>\n",
       "      <td>France</td>\n",
       "    </tr>\n",
       "    <tr>\n",
       "      <th>541905</th>\n",
       "      <td>581587</td>\n",
       "      <td>22899</td>\n",
       "      <td>CHILDREN'S APRON DOLLY GIRL</td>\n",
       "      <td>6</td>\n",
       "      <td>2011-12-09 12:50:00</td>\n",
       "      <td>2.10</td>\n",
       "      <td>12680.0</td>\n",
       "      <td>France</td>\n",
       "    </tr>\n",
       "    <tr>\n",
       "      <th>541906</th>\n",
       "      <td>581587</td>\n",
       "      <td>23254</td>\n",
       "      <td>CHILDRENS CUTLERY DOLLY GIRL</td>\n",
       "      <td>4</td>\n",
       "      <td>2011-12-09 12:50:00</td>\n",
       "      <td>4.15</td>\n",
       "      <td>12680.0</td>\n",
       "      <td>France</td>\n",
       "    </tr>\n",
       "    <tr>\n",
       "      <th>541907</th>\n",
       "      <td>581587</td>\n",
       "      <td>23255</td>\n",
       "      <td>CHILDRENS CUTLERY CIRCUS PARADE</td>\n",
       "      <td>4</td>\n",
       "      <td>2011-12-09 12:50:00</td>\n",
       "      <td>4.15</td>\n",
       "      <td>12680.0</td>\n",
       "      <td>France</td>\n",
       "    </tr>\n",
       "    <tr>\n",
       "      <th>541908</th>\n",
       "      <td>581587</td>\n",
       "      <td>22138</td>\n",
       "      <td>BAKING SET 9 PIECE RETROSPOT</td>\n",
       "      <td>3</td>\n",
       "      <td>2011-12-09 12:50:00</td>\n",
       "      <td>4.95</td>\n",
       "      <td>12680.0</td>\n",
       "      <td>France</td>\n",
       "    </tr>\n",
       "  </tbody>\n",
       "</table>\n",
       "</div>"
      ],
      "text/plain": [
       "       InvoiceNo StockCode                      Description  Quantity  \\\n",
       "541904    581587     22613      PACK OF 20 SPACEBOY NAPKINS        12   \n",
       "541905    581587     22899     CHILDREN'S APRON DOLLY GIRL          6   \n",
       "541906    581587     23254    CHILDRENS CUTLERY DOLLY GIRL          4   \n",
       "541907    581587     23255  CHILDRENS CUTLERY CIRCUS PARADE         4   \n",
       "541908    581587     22138    BAKING SET 9 PIECE RETROSPOT          3   \n",
       "\n",
       "               InvoiceDate  UnitPrice  CustomerID Country  \n",
       "541904 2011-12-09 12:50:00       0.85     12680.0  France  \n",
       "541905 2011-12-09 12:50:00       2.10     12680.0  France  \n",
       "541906 2011-12-09 12:50:00       4.15     12680.0  France  \n",
       "541907 2011-12-09 12:50:00       4.15     12680.0  France  \n",
       "541908 2011-12-09 12:50:00       4.95     12680.0  France  "
      ]
     },
     "execution_count": 4,
     "metadata": {},
     "output_type": "execute_result"
    }
   ],
   "source": [
    "#lecture des 5 dernieres colones\n",
    "df.tail()"
   ]
  },
  {
   "cell_type": "code",
   "execution_count": 5,
   "id": "ce0f748d-e09d-4165-9d99-55335aa51383",
   "metadata": {},
   "outputs": [
    {
     "data": {
      "text/plain": [
       "(541909, 8)"
      ]
     },
     "execution_count": 5,
     "metadata": {},
     "output_type": "execute_result"
    }
   ],
   "source": [
    "#taille du dataset\n",
    "df.shape"
   ]
  },
  {
   "cell_type": "code",
   "execution_count": 6,
   "id": "9b2944ad-0d0e-47de-b7b5-8f206b8e2ff5",
   "metadata": {},
   "outputs": [
    {
     "data": {
      "text/plain": [
       "Index(['InvoiceNo', 'StockCode', 'Description', 'Quantity', 'InvoiceDate',\n",
       "       'UnitPrice', 'CustomerID', 'Country'],\n",
       "      dtype='object')"
      ]
     },
     "execution_count": 6,
     "metadata": {},
     "output_type": "execute_result"
    }
   ],
   "source": [
    "#colonnes\n",
    "df.columns"
   ]
  },
  {
   "cell_type": "code",
   "execution_count": 7,
   "id": "05741956-7988-436a-93e8-49b20681a9cf",
   "metadata": {},
   "outputs": [
    {
     "name": "stdout",
     "output_type": "stream",
     "text": [
      "<class 'pandas.core.frame.DataFrame'>\n",
      "RangeIndex: 541909 entries, 0 to 541908\n",
      "Data columns (total 8 columns):\n",
      " #   Column       Non-Null Count   Dtype         \n",
      "---  ------       --------------   -----         \n",
      " 0   InvoiceNo    541909 non-null  object        \n",
      " 1   StockCode    541909 non-null  object        \n",
      " 2   Description  540455 non-null  object        \n",
      " 3   Quantity     541909 non-null  int64         \n",
      " 4   InvoiceDate  541909 non-null  datetime64[ns]\n",
      " 5   UnitPrice    541909 non-null  float64       \n",
      " 6   CustomerID   406829 non-null  float64       \n",
      " 7   Country      541909 non-null  object        \n",
      "dtypes: datetime64[ns](1), float64(2), int64(1), object(4)\n",
      "memory usage: 33.1+ MB\n"
     ]
    }
   ],
   "source": [
    "#vue globale des donnees\n",
    "df.info()"
   ]
  },
  {
   "cell_type": "markdown",
   "id": "6dfdfafe-4e1e-409a-81ae-5bbc0018fbd7",
   "metadata": {},
   "source": [
    "**note** : le type de chaque colonne est correct a l'exception de CustomerID"
   ]
  },
  {
   "cell_type": "code",
   "execution_count": 8,
   "id": "601d5e8c-5c35-4094-a107-fd320aae0963",
   "metadata": {},
   "outputs": [],
   "source": [
    "# mondifions le type de CustomerID   \n",
    "df['CustomerID'] = df['CustomerID'].astype(object)"
   ]
  },
  {
   "cell_type": "code",
   "execution_count": 9,
   "id": "2c7feb5a-8c47-49f9-8d94-ed0a2ead043d",
   "metadata": {},
   "outputs": [
    {
     "data": {
      "text/html": [
       "<div>\n",
       "<style scoped>\n",
       "    .dataframe tbody tr th:only-of-type {\n",
       "        vertical-align: middle;\n",
       "    }\n",
       "\n",
       "    .dataframe tbody tr th {\n",
       "        vertical-align: top;\n",
       "    }\n",
       "\n",
       "    .dataframe thead th {\n",
       "        text-align: right;\n",
       "    }\n",
       "</style>\n",
       "<table border=\"1\" class=\"dataframe\">\n",
       "  <thead>\n",
       "    <tr style=\"text-align: right;\">\n",
       "      <th></th>\n",
       "      <th>count</th>\n",
       "      <th>mean</th>\n",
       "      <th>std</th>\n",
       "      <th>min</th>\n",
       "      <th>25%</th>\n",
       "      <th>50%</th>\n",
       "      <th>75%</th>\n",
       "      <th>max</th>\n",
       "    </tr>\n",
       "  </thead>\n",
       "  <tbody>\n",
       "    <tr>\n",
       "      <th>Quantity</th>\n",
       "      <td>541909.0</td>\n",
       "      <td>9.552250</td>\n",
       "      <td>218.081158</td>\n",
       "      <td>-80995.00</td>\n",
       "      <td>1.00</td>\n",
       "      <td>3.00</td>\n",
       "      <td>10.00</td>\n",
       "      <td>80995.0</td>\n",
       "    </tr>\n",
       "    <tr>\n",
       "      <th>UnitPrice</th>\n",
       "      <td>541909.0</td>\n",
       "      <td>4.611114</td>\n",
       "      <td>96.759853</td>\n",
       "      <td>-11062.06</td>\n",
       "      <td>1.25</td>\n",
       "      <td>2.08</td>\n",
       "      <td>4.13</td>\n",
       "      <td>38970.0</td>\n",
       "    </tr>\n",
       "  </tbody>\n",
       "</table>\n",
       "</div>"
      ],
      "text/plain": [
       "              count      mean         std       min   25%   50%    75%  \\\n",
       "Quantity   541909.0  9.552250  218.081158 -80995.00  1.00  3.00  10.00   \n",
       "UnitPrice  541909.0  4.611114   96.759853 -11062.06  1.25  2.08   4.13   \n",
       "\n",
       "               max  \n",
       "Quantity   80995.0  \n",
       "UnitPrice  38970.0  "
      ]
     },
     "execution_count": 9,
     "metadata": {},
     "output_type": "execute_result"
    }
   ],
   "source": [
    "#statistiques sommaire des donnees\n",
    "df[['Quantity', 'UnitPrice']].describe().T"
   ]
  },
  {
   "cell_type": "markdown",
   "id": "67d9d4fe-f3f2-4fe0-8633-267e0d67a6a3",
   "metadata": {},
   "source": [
    "**note** : nous pouvons observer que les colonnes Quantity et UnitPrice ont des valeurs negatives qui n'ont pas de sens"
   ]
  },
  {
   "cell_type": "markdown",
   "id": "fed2fe1c-f35b-49ef-8305-9aab8d7ea692",
   "metadata": {},
   "source": [
    "**Supprimons les colonnes qui ont des valeurs negatives**"
   ]
  },
  {
   "cell_type": "code",
   "execution_count": 10,
   "id": "c519da9b-7da2-40e1-b04a-86126598c830",
   "metadata": {},
   "outputs": [
    {
     "data": {
      "text/plain": [
       "1.9604767590130447"
      ]
     },
     "execution_count": 10,
     "metadata": {},
     "output_type": "execute_result"
    }
   ],
   "source": [
    "# Analyse des proportions\n",
    "len(df[df['Quantity'] <= 0])/len(df) * 100"
   ]
  },
  {
   "cell_type": "code",
   "execution_count": 11,
   "id": "9fba3c5e-05fa-4f7d-9392-9e19dfb953ce",
   "metadata": {},
   "outputs": [
    {
     "data": {
      "text/plain": [
       "0.46446912673530055"
      ]
     },
     "execution_count": 11,
     "metadata": {},
     "output_type": "execute_result"
    }
   ],
   "source": [
    "# Analyse des proportions\n",
    "len(df[df['UnitPrice'] <= 0])/len(df) * 100"
   ]
  },
  {
   "cell_type": "code",
   "execution_count": 12,
   "id": "fc726165-a5ae-42ef-b45e-9550086497d9",
   "metadata": {},
   "outputs": [],
   "source": [
    "df = df[df['Quantity'] >= 0]"
   ]
  },
  {
   "cell_type": "code",
   "execution_count": 13,
   "id": "c22d76b4-f2af-44f6-8c31-747e03a729cd",
   "metadata": {},
   "outputs": [],
   "source": [
    "df = df[df['UnitPrice'] >= 0]"
   ]
  },
  {
   "cell_type": "markdown",
   "id": "ceebf5db-a9d7-45fe-a73e-f43542baaa2a",
   "metadata": {},
   "source": [
    "### **Analyse et Traitement des valeurs manquantes**"
   ]
  },
  {
   "cell_type": "code",
   "execution_count": 14,
   "id": "0fdf1b9c-92cb-45d7-ab5f-382e2dbd749e",
   "metadata": {},
   "outputs": [
    {
     "data": {
      "text/plain": [
       "InvoiceNo       0.000000\n",
       "StockCode       0.000000\n",
       "Description     0.111428\n",
       "Quantity        0.000000\n",
       "InvoiceDate     0.000000\n",
       "UnitPrice       0.000000\n",
       "CustomerID     25.101311\n",
       "Country         0.000000\n",
       "dtype: float64"
      ]
     },
     "execution_count": 14,
     "metadata": {},
     "output_type": "execute_result"
    }
   ],
   "source": [
    "# calculons le pourcentage de valeurs manquantes par colonne\n",
    "df.isna().sum()/len(df) * 100"
   ]
  },
  {
   "cell_type": "markdown",
   "id": "93a0c6ce-939e-4fb6-a05f-e841f38afb0e",
   "metadata": {},
   "source": [
    "**note** : nous voyons qu'il y a pres de 25% de valeurs manquantes dans la colonne CustomerID et moins de 1% dans la colonne Description"
   ]
  },
  {
   "cell_type": "code",
   "execution_count": 15,
   "id": "369ca965-3aa8-460c-8923-c3066258eb3e",
   "metadata": {},
   "outputs": [],
   "source": [
    "# remplacons les valeurs manquante de la colonne description par : pas de description\n",
    "df['Description'].fillna(\"pas de description\", inplace = True)"
   ]
  },
  {
   "cell_type": "code",
   "execution_count": 16,
   "id": "27fe748f-8601-4624-985f-8ffdaad865d7",
   "metadata": {},
   "outputs": [
    {
     "data": {
      "text/plain": [
       "0.0"
      ]
     },
     "execution_count": 16,
     "metadata": {},
     "output_type": "execute_result"
    }
   ],
   "source": [
    "# verification\n",
    "df['Description'].isna().sum()/len(df) * 100"
   ]
  },
  {
   "cell_type": "markdown",
   "id": "57952d9d-e145-43fa-831b-edcbf653beda",
   "metadata": {},
   "source": [
    "**IMPORTANT** : vu que l'objectif est d'analyser les vente des produits j'ai pris la decision de ne pas supprimer les lignes de notre dataset contenant un vide au niveau du CustomerID car cette action devait reduire de 25% la quantite globale de mes produits "
   ]
  },
  {
   "cell_type": "markdown",
   "id": "da8ac919-a51a-4140-ac2e-96de7749438e",
   "metadata": {},
   "source": [
    "### **Analyse et Traitement des doublons**"
   ]
  },
  {
   "cell_type": "code",
   "execution_count": 17,
   "id": "a5b2b98c-4f8f-466f-b1a4-f4455f34264f",
   "metadata": {},
   "outputs": [
    {
     "data": {
      "text/plain": [
       "0.9845976626393089"
      ]
     },
     "execution_count": 17,
     "metadata": {},
     "output_type": "execute_result"
    }
   ],
   "source": [
    "# pourcentage de doublons\n",
    "df.duplicated().sum()/len(df) * 100"
   ]
  },
  {
   "cell_type": "code",
   "execution_count": 18,
   "id": "bae74510-331d-4956-96c7-99903220be62",
   "metadata": {},
   "outputs": [],
   "source": [
    "# suppression des doublons\n",
    "df.drop_duplicates(inplace = True)"
   ]
  },
  {
   "cell_type": "code",
   "execution_count": 19,
   "id": "3eb0d58f-d03e-4c36-bb40-7f9e6a07b107",
   "metadata": {},
   "outputs": [
    {
     "data": {
      "text/plain": [
       "0"
      ]
     },
     "execution_count": 19,
     "metadata": {},
     "output_type": "execute_result"
    }
   ],
   "source": [
    "# verification\n",
    "df.duplicated().sum()"
   ]
  },
  {
   "cell_type": "markdown",
   "id": "b48b02a6-b703-44c1-8f9a-9c496e1b1a34",
   "metadata": {},
   "source": [
    "## **2. Analyse exploratoire des donnees**"
   ]
  },
  {
   "cell_type": "code",
   "execution_count": 20,
   "id": "3db15edb-a667-41c5-9eb4-95847787d64b",
   "metadata": {},
   "outputs": [
    {
     "data": {
      "image/png": "[encoded data removed]",
      "text/plain": [
       "<Figure size 640x480 with 1 Axes>"
      ]
     },
     "metadata": {},
     "output_type": "display_data"
    }
   ],
   "source": [
    "sns.histplot(x = df['Quantity'], palette = \"cool\", bins = 30);"
   ]
  },
  {
   "cell_type": "code",
   "execution_count": 21,
   "id": "34a1675b-3ba9-46a5-8c29-3448f23ae01b",
   "metadata": {},
   "outputs": [
    {
     "data": {
      "image/png": "[encoded data removed]",
      "text/plain": [
       "<Figure size 640x480 with 1 Axes>"
      ]
     },
     "metadata": {},
     "output_type": "display_data"
    }
   ],
   "source": [
    "sns.histplot(x = df['UnitPrice'], palette = \"cool\", bins = 15);"
   ]
  },
  {
   "cell_type": "code",
   "execution_count": 22,
   "id": "7dca4fda-9baf-4a97-8357-4b8c3918bb4c",
   "metadata": {},
   "outputs": [
    {
     "data": {
      "image/png": "[encoded data removed]",
      "text/plain": [
       "<Figure size 640x480 with 1 Axes>"
      ]
     },
     "metadata": {},
     "output_type": "display_data"
    }
   ],
   "source": [
    "plt.title(\"relation entre la quantite et le prix unitaire\")\n",
    "sns.scatterplot(x = \"UnitPrice\", y = \"Quantity\", data = df , palette = \"cool\");"
   ]
  },
  {
   "cell_type": "code",
   "execution_count": 23,
   "id": "5035cd30-a4ed-4ce5-b40f-1078c2195929",
   "metadata": {},
   "outputs": [
    {
     "data": {
      "image/png": "[encoded data removed]",
      "text/plain": [
       "<Figure size 640x480 with 2 Axes>"
      ]
     },
     "metadata": {},
     "output_type": "display_data"
    }
   ],
   "source": [
    "plt.title(\"correlation entre la quantite et le prix unitaire\")\n",
    "sns.heatmap(df[['UnitPrice',\"Quantity\"]].corr(), cmap = \"cool\" );"
   ]
  },
  {
   "cell_type": "code",
   "execution_count": null,
   "id": "a331acd8-524b-43f7-a9ec-64f7430c8e19",
   "metadata": {},
   "outputs": [],
   "source": []
  }
 ],
 "metadata": {
  "kernelspec": {
   "display_name": "Python 3 (ipykernel)",
   "language": "python",
   "name": "python3"
  },
  "language_info": {
   "codemirror_mode": {
    "name": "ipython",
    "version": 3
   },
   "file_extension": ".py",
   "mimetype": "text/x-python",
   "name": "python",
   "nbconvert_exporter": "python",
   "pygments_lexer": "ipython3",
   "version": "3.11.7"
  }
 },
 "nbformat": 4,
 "nbformat_minor": 5
}
